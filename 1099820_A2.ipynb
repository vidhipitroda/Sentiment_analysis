{
  "nbformat": 4,
  "nbformat_minor": 0,
  "metadata": {
    "colab": {
      "name": "1099820_A2.ipynb",
      "provenance": [],
      "collapsed_sections": [],
      "include_colab_link": true
    },
    "kernelspec": {
      "name": "python3",
      "display_name": "Python 3"
    },
    "accelerator": "GPU"
  },
  "cells": [
    {
      "cell_type": "markdown",
      "metadata": {
        "id": "view-in-github",
        "colab_type": "text"
      },
      "source": [
        "<a href=\"https://colab.research.google.com/github/vidhipitroda/Sentiment_analysis/blob/master/1099820_A2.ipynb\" target=\"_parent\"><img src=\"https://colab.research.google.com/assets/colab-badge.svg\" alt=\"Open In Colab\"/></a>"
      ]
    },
    {
      "cell_type": "code",
      "metadata": {
        "id": "GhZ-SKnmSUR-",
        "colab_type": "code",
        "outputId": "554a1f60-4bfc-4904-a6e3-38262a1aad76",
        "colab": {
          "base_uri": "https://localhost:8080/",
          "height": 136
        }
      },
      "source": [
        "#initally library are imported\n",
        "import tensorflow.compat.v1 as tf\n",
        "tf.disable_v2_behavior()\n",
        "# Import the pandas library to read our dataset \n",
        "import pandas as pd\n",
        "# Get the train/test split package from sklearn for preparing our dataset to # train and test the model with \n",
        "from sklearn.model_selection import train_test_split\n",
        "# Import the numpy library to work with and manipulate the data \n",
        "# Get the train/test split package from sklearn for preparing our dataset to\n",
        "# train and test the model with\n",
        "from sklearn.model_selection import train_test_split\n",
        "import numpy as np\n",
        "import matplotlib.pyplot as plt\n",
        "import nltk \n",
        "import random \n",
        "from nltk.tokenize import word_tokenize\n",
        "nltk.download('punkt') \n",
        "nltk.download('stopwords') \n",
        "nltk.download('wordnet') "
      ],
      "execution_count": 0,
      "outputs": [
        {
          "output_type": "stream",
          "text": [
            "[nltk_data] Downloading package punkt to /root/nltk_data...\n",
            "[nltk_data]   Package punkt is already up-to-date!\n",
            "[nltk_data] Downloading package stopwords to /root/nltk_data...\n",
            "[nltk_data]   Package stopwords is already up-to-date!\n",
            "[nltk_data] Downloading package wordnet to /root/nltk_data...\n",
            "[nltk_data]   Package wordnet is already up-to-date!\n"
          ],
          "name": "stdout"
        },
        {
          "output_type": "execute_result",
          "data": {
            "text/plain": [
              "True"
            ]
          },
          "metadata": {
            "tags": []
          },
          "execution_count": 38
        }
      ]
    },
    {
      "cell_type": "code",
      "metadata": {
        "id": "hzgCW0E6SZQe",
        "colab_type": "code",
        "outputId": "4604ecdc-98fb-4228-8e16-dbc2018ef139",
        "colab": {
          "base_uri": "https://localhost:8080/",
          "height": 204
        }
      },
      "source": [
        "# Imported the necessary libraries\n",
        "import csv\n",
        "import urllib.request as urllib2\n",
        "\n",
        "import matplotlib.pyplot as plt\n",
        "from nltk import FreqDist\n",
        "import pandas as pd\n",
        "# Importing data using url\n",
        "url = 'https://raw.githubusercontent.com/cacoderquan/Sentiment-Analysis-on-the-Rotten-Tomatoes-movie-review-dataset/master/train.tsv'\n",
        "response = urllib2.urlopen(url)\n",
        "\n",
        "# reading data using pandas and converting into dataframe\n",
        "df = pd.read_csv(response,delimiter='\\t',encoding='utf-8')\n",
        "df.head()\n"
      ],
      "execution_count": 0,
      "outputs": [
        {
          "output_type": "execute_result",
          "data": {
            "text/html": [
              "<div>\n",
              "<style scoped>\n",
              "    .dataframe tbody tr th:only-of-type {\n",
              "        vertical-align: middle;\n",
              "    }\n",
              "\n",
              "    .dataframe tbody tr th {\n",
              "        vertical-align: top;\n",
              "    }\n",
              "\n",
              "    .dataframe thead th {\n",
              "        text-align: right;\n",
              "    }\n",
              "</style>\n",
              "<table border=\"1\" class=\"dataframe\">\n",
              "  <thead>\n",
              "    <tr style=\"text-align: right;\">\n",
              "      <th></th>\n",
              "      <th>PhraseId</th>\n",
              "      <th>SentenceId</th>\n",
              "      <th>Phrase</th>\n",
              "      <th>Sentiment</th>\n",
              "    </tr>\n",
              "  </thead>\n",
              "  <tbody>\n",
              "    <tr>\n",
              "      <th>0</th>\n",
              "      <td>1</td>\n",
              "      <td>1</td>\n",
              "      <td>A series of escapades demonstrating the adage ...</td>\n",
              "      <td>1</td>\n",
              "    </tr>\n",
              "    <tr>\n",
              "      <th>1</th>\n",
              "      <td>2</td>\n",
              "      <td>1</td>\n",
              "      <td>A series of escapades demonstrating the adage ...</td>\n",
              "      <td>2</td>\n",
              "    </tr>\n",
              "    <tr>\n",
              "      <th>2</th>\n",
              "      <td>3</td>\n",
              "      <td>1</td>\n",
              "      <td>A series</td>\n",
              "      <td>2</td>\n",
              "    </tr>\n",
              "    <tr>\n",
              "      <th>3</th>\n",
              "      <td>4</td>\n",
              "      <td>1</td>\n",
              "      <td>A</td>\n",
              "      <td>2</td>\n",
              "    </tr>\n",
              "    <tr>\n",
              "      <th>4</th>\n",
              "      <td>5</td>\n",
              "      <td>1</td>\n",
              "      <td>series</td>\n",
              "      <td>2</td>\n",
              "    </tr>\n",
              "  </tbody>\n",
              "</table>\n",
              "</div>"
            ],
            "text/plain": [
              "   PhraseId  ...  Sentiment\n",
              "0         1  ...          1\n",
              "1         2  ...          2\n",
              "2         3  ...          2\n",
              "3         4  ...          2\n",
              "4         5  ...          2\n",
              "\n",
              "[5 rows x 4 columns]"
            ]
          },
          "metadata": {
            "tags": []
          },
          "execution_count": 39
        }
      ]
    },
    {
      "cell_type": "markdown",
      "metadata": {
        "id": "PY9Fdf9yGYig",
        "colab_type": "text"
      },
      "source": [
        ""
      ]
    },
    {
      "cell_type": "code",
      "metadata": {
        "id": "uDU5qDu_Sbj2",
        "colab_type": "code",
        "outputId": "da6f9128-807e-45ef-c281-fdaa4aeb56c1",
        "colab": {
          "base_uri": "https://localhost:8080/",
          "height": 204
        }
      },
      "source": [
        "df = df.sample(frac=1).reset_index(drop=True)\n",
        "df.head()"
      ],
      "execution_count": 0,
      "outputs": [
        {
          "output_type": "execute_result",
          "data": {
            "text/html": [
              "<div>\n",
              "<style scoped>\n",
              "    .dataframe tbody tr th:only-of-type {\n",
              "        vertical-align: middle;\n",
              "    }\n",
              "\n",
              "    .dataframe tbody tr th {\n",
              "        vertical-align: top;\n",
              "    }\n",
              "\n",
              "    .dataframe thead th {\n",
              "        text-align: right;\n",
              "    }\n",
              "</style>\n",
              "<table border=\"1\" class=\"dataframe\">\n",
              "  <thead>\n",
              "    <tr style=\"text-align: right;\">\n",
              "      <th></th>\n",
              "      <th>PhraseId</th>\n",
              "      <th>SentenceId</th>\n",
              "      <th>Phrase</th>\n",
              "      <th>Sentiment</th>\n",
              "    </tr>\n",
              "  </thead>\n",
              "  <tbody>\n",
              "    <tr>\n",
              "      <th>0</th>\n",
              "      <td>121870</td>\n",
              "      <td>6531</td>\n",
              "      <td>Just another generic drama that has nothing go...</td>\n",
              "      <td>1</td>\n",
              "    </tr>\n",
              "    <tr>\n",
              "      <th>1</th>\n",
              "      <td>57672</td>\n",
              "      <td>2907</td>\n",
              "      <td>only improves on it , with terrific computer g...</td>\n",
              "      <td>3</td>\n",
              "    </tr>\n",
              "    <tr>\n",
              "      <th>2</th>\n",
              "      <td>146832</td>\n",
              "      <td>7988</td>\n",
              "      <td>a typical Bible killer story</td>\n",
              "      <td>1</td>\n",
              "    </tr>\n",
              "    <tr>\n",
              "      <th>3</th>\n",
              "      <td>34032</td>\n",
              "      <td>1599</td>\n",
              "      <td>You may feel compelled to watch the film twice...</td>\n",
              "      <td>3</td>\n",
              "    </tr>\n",
              "    <tr>\n",
              "      <th>4</th>\n",
              "      <td>155797</td>\n",
              "      <td>8527</td>\n",
              "      <td>left on a remote shelf indefinitely</td>\n",
              "      <td>1</td>\n",
              "    </tr>\n",
              "  </tbody>\n",
              "</table>\n",
              "</div>"
            ],
            "text/plain": [
              "   PhraseId  ...  Sentiment\n",
              "0    121870  ...          1\n",
              "1     57672  ...          3\n",
              "2    146832  ...          1\n",
              "3     34032  ...          3\n",
              "4    155797  ...          1\n",
              "\n",
              "[5 rows x 4 columns]"
            ]
          },
          "metadata": {
            "tags": []
          },
          "execution_count": 40
        }
      ]
    },
    {
      "cell_type": "code",
      "metadata": {
        "id": "I09uWbN4SfNm",
        "colab_type": "code",
        "outputId": "c80fe645-9378-4948-f2d7-8c25168bc71f",
        "colab": {
          "base_uri": "https://localhost:8080/",
          "height": 119
        }
      },
      "source": [
        "#Now the dataset is splitted into 70:30 ratio and random state is set to 2003\n",
        "X_train, X_test, Y_train, Y_test = train_test_split(df ['Phrase'], df ['Sentiment'], test_size=0.3, random_state=2003)\n",
        "\n",
        "x_train = pd.DataFrame(X_train)\n",
        "y_train = pd.DataFrame(Y_train)\n",
        "train_data = pd.concat([x_train,y_train],axis=1)\n",
        "#values of different classes is counted in training dataset. \n",
        "train_data['Sentiment'].value_counts()\n",
        "#documents[0]\n"
      ],
      "execution_count": 0,
      "outputs": [
        {
          "output_type": "execute_result",
          "data": {
            "text/plain": [
              "2    55497\n",
              "3    23151\n",
              "1    19115\n",
              "4     6475\n",
              "0     5004\n",
              "Name: Sentiment, dtype: int64"
            ]
          },
          "metadata": {
            "tags": []
          },
          "execution_count": 41
        }
      ]
    },
    {
      "cell_type": "code",
      "metadata": {
        "id": "yNfZsZLQGxns",
        "colab_type": "code",
        "outputId": "79cde5fd-5002-44ac-805c-a0ffdd3d291d",
        "colab": {
          "base_uri": "https://localhost:8080/",
          "height": 231
        }
      },
      "source": [
        "#Upsampling and down sampling is performed to reduce imbalancing\n",
        "from sklearn.utils import resample\n",
        "#cls_2, cls_3, cls_1, cls_4, cls_0 = data['Sentiment'].value_counts()\n",
        "df_majority = train_data[train_data.Sentiment==1]\n",
        "df_minority = train_data[train_data.Sentiment==4]\n",
        "df_minor_0 =  train_data[train_data.Sentiment==0]\n",
        "df_down_3 = train_data[train_data.Sentiment==3]\n",
        "df_down_2 =train_data[train_data.Sentiment==2]\n",
        "# Upsample minority class\n",
        "df_minority_upsampled_4 = resample(df_minority, \n",
        "                                 replace=True,     # sample with replacement\n",
        "                                 n_samples= 10000,    # to match majority class\n",
        "                                 random_state=123) # reproducible results\n",
        "\n",
        "#print(df_minority_upsampled_4.Sentiment.value_counts())\n",
        "df_minor_0 =  train_data[train_data.Sentiment==0]\n",
        "df_minority_upsampled_0 = resample(df_minor_0, \n",
        "                                 replace=True,     # sample with replacement\n",
        "                                 n_samples=19089,    # to match majority class\n",
        "                                 random_state=123) \n",
        "df_minority_upsampled_0.Sentiment.value_counts()\n",
        "df_down_3 = train_data[train_data.Sentiment==3]\n",
        "df_down_2 = train_data[train_data.Sentiment==2]\n",
        "#df_minority_upsampled_3 = resample(df_down_3, replace=False,n_samples=1536, random_state=123)\n",
        "df_minority_upsampled_2 = resample(df_down_2, \n",
        "                                 replace=False,     # sample with replacement\n",
        "                                 n_samples=25466,    # to match majority class\n",
        "                                 random_state=123)\n",
        "#print(df_minority_upsampled_3.Sentiment.value_counts())\n",
        "#print(df_minority_upsampled_2.Sentiment.value_counts())\n",
        "\n",
        "# Combine majority class with upsampled minority class\n",
        "df_upsampled = pd.concat([df_minority_upsampled_4,df_minority_upsampled_0,df_down_3,df_minority_upsampled_2])\n",
        "df_upsampled.Sentiment.value_counts()\n",
        "total_data = pd.concat([df_majority,df_upsampled])\n",
        "total_data.Sentiment.value_counts()\n",
        "#type(total_data)"
      ],
      "execution_count": 0,
      "outputs": [
        {
          "output_type": "error",
          "ename": "NameError",
          "evalue": "ignored",
          "traceback": [
            "\u001b[0;31m---------------------------------------------------------------------------\u001b[0m",
            "\u001b[0;31mNameError\u001b[0m                                 Traceback (most recent call last)",
            "\u001b[0;32m<ipython-input-1-fdd75f13c87b>\u001b[0m in \u001b[0;36m<module>\u001b[0;34m()\u001b[0m\n\u001b[1;32m      1\u001b[0m \u001b[0;32mfrom\u001b[0m \u001b[0msklearn\u001b[0m\u001b[0;34m.\u001b[0m\u001b[0mutils\u001b[0m \u001b[0;32mimport\u001b[0m \u001b[0mresample\u001b[0m\u001b[0;34m\u001b[0m\u001b[0;34m\u001b[0m\u001b[0m\n\u001b[1;32m      2\u001b[0m \u001b[0;31m#cls_2, cls_3, cls_1, cls_4, cls_0 = data['Sentiment'].value_counts()\u001b[0m\u001b[0;34m\u001b[0m\u001b[0;34m\u001b[0m\u001b[0;34m\u001b[0m\u001b[0m\n\u001b[0;32m----> 3\u001b[0;31m \u001b[0mdf_majority\u001b[0m \u001b[0;34m=\u001b[0m \u001b[0mtrain_data\u001b[0m\u001b[0;34m[\u001b[0m\u001b[0mtrain_data\u001b[0m\u001b[0;34m.\u001b[0m\u001b[0mSentiment\u001b[0m\u001b[0;34m==\u001b[0m\u001b[0;36m1\u001b[0m\u001b[0;34m]\u001b[0m\u001b[0;34m\u001b[0m\u001b[0;34m\u001b[0m\u001b[0m\n\u001b[0m\u001b[1;32m      4\u001b[0m \u001b[0mdf_minority\u001b[0m \u001b[0;34m=\u001b[0m \u001b[0mtrain_data\u001b[0m\u001b[0;34m[\u001b[0m\u001b[0mtrain_data\u001b[0m\u001b[0;34m.\u001b[0m\u001b[0mSentiment\u001b[0m\u001b[0;34m==\u001b[0m\u001b[0;36m4\u001b[0m\u001b[0;34m]\u001b[0m\u001b[0;34m\u001b[0m\u001b[0;34m\u001b[0m\u001b[0m\n\u001b[1;32m      5\u001b[0m \u001b[0mdf_minor_0\u001b[0m \u001b[0;34m=\u001b[0m  \u001b[0mtrain_data\u001b[0m\u001b[0;34m[\u001b[0m\u001b[0mtrain_data\u001b[0m\u001b[0;34m.\u001b[0m\u001b[0mSentiment\u001b[0m\u001b[0;34m==\u001b[0m\u001b[0;36m0\u001b[0m\u001b[0;34m]\u001b[0m\u001b[0;34m\u001b[0m\u001b[0;34m\u001b[0m\u001b[0m\n",
            "\u001b[0;31mNameError\u001b[0m: name 'train_data' is not defined"
          ]
        }
      ]
    },
    {
      "cell_type": "code",
      "metadata": {
        "id": "P311GvxysrtK",
        "colab_type": "code",
        "outputId": "54d29c7e-1dd4-4e3d-eda8-6e1a5bfd8f06",
        "colab": {
          "base_uri": "https://localhost:8080/",
          "height": 34
        }
      },
      "source": [
        "#total_data[''].values.tolist\n",
        "from sklearn.utils import shuffle\n",
        "Total_data = shuffle(total_data)\n",
        "type(Total_data)\n",
        "X_train = np.array(Total_data['Phrase'].values.tolist())\n",
        "type(X_train)"
      ],
      "execution_count": 0,
      "outputs": [
        {
          "output_type": "execute_result",
          "data": {
            "text/plain": [
              "numpy.ndarray"
            ]
          },
          "metadata": {
            "tags": []
          },
          "execution_count": 39
        }
      ]
    },
    {
      "cell_type": "code",
      "metadata": {
        "id": "EECwJDR9r_Nk",
        "colab_type": "code",
        "colab": {}
      },
      "source": [
        "#Converting the data into list\n",
        "document_train=[] #stores the training data\n",
        "document_test = [] #stores the testing data\n",
        "X_train = np.array(train_data['Phrase'].values.tolist())\n",
        "Y_train = np.array(train_data['Sentiment'].values.tolist())\n",
        "\n",
        "#performing word tokenization on training data\n",
        "for i in range(len(X_train)):\n",
        "  document_train.append([list(word_tokenize(X_train[i])), Y_train[i]]) \n",
        "#performing word tokenization on testing data\n",
        "X_test = np.array(X_test.values.tolist())\n",
        "Y_test = np.array(Y_test.values.tolist())\n",
        "for i in range(len(X_test)):\n",
        "  document_test.append([list(word_tokenize(X_test[i])), Y_test[i]]) \n"
      ],
      "execution_count": 0,
      "outputs": []
    },
    {
      "cell_type": "code",
      "metadata": {
        "id": "ijzy-jDhSSkl",
        "colab_type": "code",
        "outputId": "541f6357-cf92-4b8d-c40e-7f00d4bf1838",
        "colab": {
          "base_uri": "https://localhost:8080/",
          "height": 34
        }
      },
      "source": [
        "type(X_train)"
      ],
      "execution_count": 0,
      "outputs": [
        {
          "output_type": "execute_result",
          "data": {
            "text/plain": [
              "numpy.ndarray"
            ]
          },
          "metadata": {
            "tags": []
          },
          "execution_count": 43
        }
      ]
    },
    {
      "cell_type": "code",
      "metadata": {
        "id": "H6ccNGN3WvQY",
        "colab_type": "code",
        "colab": {}
      },
      "source": [
        "from nltk.corpus import stopwords \n",
        "from nltk.stem import WordNetLemmatizer, PorterStemmer, LancasterStemmer \n",
        "def preprocess(data):\n",
        "\n",
        "\n",
        "  porter = PorterStemmer() \n",
        "  lancaster=LancasterStemmer() \n",
        "  wordnet_lemmatizer = WordNetLemmatizer() \n",
        "  stopwords_en = stopwords.words(\"english\") \n",
        "  punctuations=\"?:!.,;'\\\"-()\"\n",
        "#parameters to adjust to see the impact on outcome \n",
        "  remove_stopwords = True\n",
        "  useStemming = True\n",
        "  useLemma = False\n",
        "  removePuncs = True\n",
        "  for l in range(len(data)):                   #For each review document \n",
        "    label = data[l][1]                         #Save review label \n",
        "    tmpReview = []                                 #Placeholder list for new review \n",
        "  for w in data[l][0]:                       #For each word this is review \n",
        "    newWord = w                                   #Set newWork to be the updated word \n",
        "    if remove_stopwords and (w in stopwords_en):  #if the word is a stopword & we want to remove stopwords \n",
        "      continue                                    #skip the word and don’t had it to the normalized review \n",
        "    if removePuncs and (w in punctuations):       #if the word is a punc. & we want to remove punctuations \n",
        "      continue                                    #skip the word and don’t had it to the normalized review \n",
        "    if useStemming:\n",
        "      #if useStemming is set to True \n",
        "      #Keep one stemmer commented out \n",
        "      #newWord = porter.stem(newWord) #User porter stemmer \n",
        "      newWord = lancaster.stem(newWord) #Use Lancaster stemmer \n",
        "    if useLemma: \n",
        "      newWord = wordnet_lemmatizer.lemmatize(newWord) \n",
        "    tmpReview.append(newWord)                     #Add normalized word to the tmp review \n",
        "  data[l] = (tmpReview, label)             #Update the reviews list with clean review \n",
        "  data[l] = (' '.join(tmpReview), label) \n",
        "\n",
        "  return data\n",
        "\n",
        "\n",
        "\n",
        "\n"
      ],
      "execution_count": 0,
      "outputs": []
    },
    {
      "cell_type": "code",
      "metadata": {
        "id": "wibkp1lHWxuf",
        "colab_type": "code",
        "colab": {}
      },
      "source": [
        "train_X1 = preprocess(document_train)\n",
        "data_train = pd.DataFrame(train_X1,columns=['text', 'sentiment'])\n",
        "test_X = preprocess(document_test)\n",
        "data_test = pd.DataFrame(test_X,columns=['text', 'sentiment'])"
      ],
      "execution_count": 0,
      "outputs": []
    },
    {
      "cell_type": "code",
      "metadata": {
        "id": "5LGRDmIuaO_G",
        "colab_type": "code",
        "colab": {}
      },
      "source": [
        "data_train['text']=[\" \".join(text) for text in data_train['text'].values]\n",
        "data_test['text']=[\" \".join(text) for text in data_test['text'].values]"
      ],
      "execution_count": 0,
      "outputs": []
    },
    {
      "cell_type": "code",
      "metadata": {
        "id": "advFABV6UPe0",
        "colab_type": "code",
        "colab": {}
      },
      "source": [
        ""
      ],
      "execution_count": 0,
      "outputs": []
    },
    {
      "cell_type": "code",
      "metadata": {
        "id": "InPVUfgzWztX",
        "colab_type": "code",
        "colab": {}
      },
      "source": [
        "#all_data1 = Preprocess_data(X_test,Y_test)\n",
        "#trainx['text']=[\" \".join(0) for text in trainx['text'].values]"
      ],
      "execution_count": 0,
      "outputs": []
    },
    {
      "cell_type": "code",
      "metadata": {
        "id": "OSoEouQN83iF",
        "colab_type": "code",
        "colab": {}
      },
      "source": [
        ""
      ],
      "execution_count": 0,
      "outputs": []
    },
    {
      "cell_type": "code",
      "metadata": {
        "id": "PSrM6IysXK3N",
        "colab_type": "code",
        "colab": {}
      },
      "source": [
        ""
      ],
      "execution_count": 0,
      "outputs": []
    },
    {
      "cell_type": "code",
      "metadata": {
        "id": "7gaF2YPvUH7W",
        "colab_type": "code",
        "colab": {}
      },
      "source": [
        "from sklearn.feature_extraction.text import CountVectorizer , TfidfVectorizer\n",
        "from keras.utils import to_categorical\n",
        "\n",
        "vectorizer = TfidfVectorizer(analyzer='word', max_features = 2000,ngram_range=(1, 2)) \n",
        "#X = vectorizer.fit_transform(df[\"text\"]) \n",
        "#Y = df['sentiment'] \n",
        " \n",
        "X_train = vectorizer.fit_transform(data_train['text']).toarray()\n",
        "#Y_train = Y_train \n",
        "X_test = vectorizer.fit_transform(data_test['text']).toarray()\n",
        "#Y_test = Y_test\n"
      ],
      "execution_count": 0,
      "outputs": []
    },
    {
      "cell_type": "code",
      "metadata": {
        "id": "i_mDKmY2WSch",
        "colab_type": "code",
        "colab": {}
      },
      "source": [
        "y_train = data_train['sentiment']\n"
      ],
      "execution_count": 0,
      "outputs": []
    },
    {
      "cell_type": "code",
      "metadata": {
        "id": "NGap1DD7UKDW",
        "colab_type": "code",
        "colab": {}
      },
      "source": [
        "# Converts the datasets to numpy arrays to work with our PyTorch model \n",
        "# X_train = np.array(X_train)\n",
        "# X_train = X_train.toarray() \n",
        "# Y_train = np.array(Y_train)\n",
        "\n",
        "# Convert the testing data \n",
        "# X_test = X_test.toarray() \n",
        "# Y_test = np.array(Y_test)\n",
        "# print(x_train_np.shape)"
      ],
      "execution_count": 0,
      "outputs": []
    },
    {
      "cell_type": "code",
      "metadata": {
        "id": "ezvrFic8Uqyy",
        "colab_type": "code",
        "colab": {}
      },
      "source": [
        "import keras\n",
        "from keras.datasets import mnist\n",
        "from keras.models import Sequential\n",
        "from keras.layers import Dense, Dropout, Flatten\n",
        "from keras.layers import Conv1D, MaxPooling1D\n",
        "from keras import backend as K"
      ],
      "execution_count": 0,
      "outputs": []
    },
    {
      "cell_type": "code",
      "metadata": {
        "id": "Rx8g8sDt2IbI",
        "colab_type": "code",
        "colab": {}
      },
      "source": [
        "#Defining function for recall, precision and f1 score\n",
        "def recall_m(y_true, y_pred):\n",
        "    true_positives = K.sum(K.round(K.clip(y_true * y_pred, 0, 1)))\n",
        "    possible_positives = K.sum(K.round(K.clip(y_true, 0, 1)))\n",
        "    recall = true_positives / (possible_positives + K.epsilon())\n",
        "    return recall\n",
        "\n",
        "def precision_m(y_true, y_pred):\n",
        "    true_positives = K.sum(K.round(K.clip(y_true * y_pred, 0, 1)))\n",
        "    predicted_positives = K.sum(K.round(K.clip(y_pred, 0, 1)))\n",
        "    precision = true_positives / (predicted_positives + K.epsilon())\n",
        "    return precision\n",
        "\n",
        "def f1_m(y_true, y_pred):\n",
        "    precision = precision_m(y_true, y_pred)\n",
        "    recall = recall_m(y_true, y_pred)\n",
        "    return 2*((precision*recall)/(precision+recall+K.epsilon()))\n"
      ],
      "execution_count": 0,
      "outputs": []
    },
    {
      "cell_type": "code",
      "metadata": {
        "id": "DfzeNFfVU4rk",
        "colab_type": "code",
        "colab": {}
      },
      "source": [
        "#Defining the parameters\n",
        "batch_size = 64\n",
        "num_classes = 5\n",
        "epochs = 10"
      ],
      "execution_count": 0,
      "outputs": []
    },
    {
      "cell_type": "code",
      "metadata": {
        "id": "r5AlEWbzSCMP",
        "colab_type": "code",
        "colab": {}
      },
      "source": [
        "\n"
      ],
      "execution_count": 0,
      "outputs": []
    },
    {
      "cell_type": "code",
      "metadata": {
        "id": "vBxQFt--fHT1",
        "colab_type": "code",
        "colab": {}
      },
      "source": [
        "import keras\n",
        "#one hot encoding on labels\n",
        "Y_train = keras.utils.to_categorical(data_train['sentiment'], num_classes)\n",
        "Y_test = keras.utils.to_categorical(data_test['sentiment'], num_classes)\n"
      ],
      "execution_count": 0,
      "outputs": []
    },
    {
      "cell_type": "code",
      "metadata": {
        "id": "tXPLB7fDfIQt",
        "colab_type": "code",
        "outputId": "2c048f81-3725-47ab-e098-8ba4441799a0",
        "colab": {
          "base_uri": "https://localhost:8080/",
          "height": 136
        }
      },
      "source": [
        "Y_test #one hot encoding on labels"
      ],
      "execution_count": 0,
      "outputs": [
        {
          "output_type": "execute_result",
          "data": {
            "text/plain": [
              "array([[0., 0., 1., 0., 0.],\n",
              "       [0., 0., 1., 0., 0.],\n",
              "       [0., 0., 1., 0., 0.],\n",
              "       ...,\n",
              "       [0., 0., 1., 0., 0.],\n",
              "       [0., 0., 1., 0., 0.],\n",
              "       [0., 0., 1., 0., 0.]], dtype=float32)"
            ]
          },
          "metadata": {
            "tags": []
          },
          "execution_count": 55
        }
      ]
    },
    {
      "cell_type": "code",
      "metadata": {
        "id": "bL4Ml-k0LhLQ",
        "colab_type": "code",
        "colab": {}
      },
      "source": [
        "#importing libraries for model\n",
        "from keras.preprocessing import sequence,text\n",
        "from keras.preprocessing.text import Tokenizer\n",
        "from keras.models import Sequential\n",
        "from keras.layers import Input, Dense, Embedding, Flatten\n",
        "from keras.layers import SpatialDropout1D\n",
        "from keras.layers.convolutional import Conv1D, MaxPooling1D\n",
        "from keras.models import Sequential\n"
      ],
      "execution_count": 0,
      "outputs": []
    },
    {
      "cell_type": "code",
      "metadata": {
        "id": "B5ToySXMU87V",
        "colab_type": "code",
        "colab": {}
      },
      "source": [
        "#Defining a model\n",
        "model = Sequential()\n",
        "#model.add(Embedding(2000,150))\n",
        "model.add(Embedding(2000, 300, input_length=2000))\n",
        "model.add(Conv1D(filters=32, kernel_size=3,\n",
        "                 activation='relu'))\n",
        "model.add(Conv1D(64, kernel_size=3, activation='relu'))\n",
        "model.add(MaxPooling1D(pool_size=1))\n",
        "model.add(Dropout(rate = 0.2))\n",
        "model.add(Flatten())\n",
        "model.add(Dense(32, activation='relu'))\n",
        "model.add(Dropout(0.2))\n",
        "model.add(Dense(num_classes, activation='softmax'))\n"
      ],
      "execution_count": 0,
      "outputs": []
    },
    {
      "cell_type": "code",
      "metadata": {
        "id": "S4eCdtmRa8pm",
        "colab_type": "code",
        "outputId": "325c9d58-e65b-40e1-88dc-67e2b0678ff5",
        "colab": {
          "base_uri": "https://localhost:8080/",
          "height": 459
        }
      },
      "source": [
        "model.summary()"
      ],
      "execution_count": 0,
      "outputs": [
        {
          "output_type": "stream",
          "text": [
            "Model: \"sequential_8\"\n",
            "_________________________________________________________________\n",
            "Layer (type)                 Output Shape              Param #   \n",
            "=================================================================\n",
            "embedding_8 (Embedding)      (None, 2000, 300)         600000    \n",
            "_________________________________________________________________\n",
            "conv1d_15 (Conv1D)           (None, 1998, 32)          28832     \n",
            "_________________________________________________________________\n",
            "conv1d_16 (Conv1D)           (None, 1996, 64)          6208      \n",
            "_________________________________________________________________\n",
            "max_pooling1d_8 (MaxPooling1 (None, 1996, 64)          0         \n",
            "_________________________________________________________________\n",
            "dropout_15 (Dropout)         (None, 1996, 64)          0         \n",
            "_________________________________________________________________\n",
            "flatten_8 (Flatten)          (None, 127744)            0         \n",
            "_________________________________________________________________\n",
            "dense_15 (Dense)             (None, 32)                4087840   \n",
            "_________________________________________________________________\n",
            "dropout_16 (Dropout)         (None, 32)                0         \n",
            "_________________________________________________________________\n",
            "dense_16 (Dense)             (None, 5)                 165       \n",
            "=================================================================\n",
            "Total params: 4,723,045\n",
            "Trainable params: 4,723,045\n",
            "Non-trainable params: 0\n",
            "_________________________________________________________________\n"
          ],
          "name": "stdout"
        }
      ]
    },
    {
      "cell_type": "code",
      "metadata": {
        "id": "HA3I6AgtgMaN",
        "colab_type": "code",
        "colab": {}
      },
      "source": [
        "model.compile(loss=keras.losses.categorical_crossentropy,\n",
        "              optimizer=keras.optimizers.Adam(),\n",
        "              metrics=['accuracy',f1_m,precision_m, recall_m])"
      ],
      "execution_count": 0,
      "outputs": []
    },
    {
      "cell_type": "code",
      "metadata": {
        "id": "-rXqFVIQiS-j",
        "colab_type": "code",
        "colab": {}
      },
      "source": [
        "X_train = X_train.reshape(X_train.shape[0], X_train.shape[1])\n",
        "X_test = X_test.reshape(X_test.shape[0], X_test.shape[1])"
      ],
      "execution_count": 0,
      "outputs": []
    },
    {
      "cell_type": "code",
      "metadata": {
        "id": "2sDSZ7J2ViP8",
        "colab_type": "code",
        "outputId": "5c4ea17a-52f4-450b-fedd-7020953a3378",
        "colab": {
          "base_uri": "https://localhost:8080/",
          "height": 377
        }
      },
      "source": [
        "#import time\n",
        "\n",
        "\n",
        "history = model.fit(X_train, Y_train,\n",
        "          batch_size=128,\n",
        "          epochs=10)\n"
      ],
      "execution_count": 0,
      "outputs": [
        {
          "output_type": "stream",
          "text": [
            "Epoch 1/10\n",
            "109242/109242 [==============================] - 50s 458us/step - loss: 1.2956 - acc: 0.5058 - f1_m: 0.2930 - precision_m: 0.5560 - recall_m: 0.2180\n",
            "Epoch 2/10\n",
            "109242/109242 [==============================] - 49s 452us/step - loss: 1.2735 - acc: 0.5080 - f1_m: 0.2897 - precision_m: 0.5858 - recall_m: 0.2096\n",
            "Epoch 3/10\n",
            "109242/109242 [==============================] - 50s 455us/step - loss: 1.2660 - acc: 0.5094 - f1_m: 0.2783 - precision_m: 0.5937 - recall_m: 0.1967\n",
            "Epoch 4/10\n",
            "109242/109242 [==============================] - 50s 459us/step - loss: 1.2612 - acc: 0.5106 - f1_m: 0.2804 - precision_m: 0.6029 - recall_m: 0.1974\n",
            "Epoch 5/10\n",
            "109242/109242 [==============================] - 50s 459us/step - loss: 1.2583 - acc: 0.5116 - f1_m: 0.2586 - precision_m: 0.6120 - recall_m: 0.1780\n",
            "Epoch 6/10\n",
            "109242/109242 [==============================] - 50s 461us/step - loss: 1.2555 - acc: 0.5120 - f1_m: 0.2460 - precision_m: 0.6366 - recall_m: 0.1671\n",
            "Epoch 7/10\n",
            "109242/109242 [==============================] - 50s 460us/step - loss: 1.2561 - acc: 0.5123 - f1_m: 0.2240 - precision_m: 0.6590 - recall_m: 0.1491\n",
            "Epoch 8/10\n",
            "109242/109242 [==============================] - 50s 454us/step - loss: 1.2527 - acc: 0.5122 - f1_m: 0.1885 - precision_m: 0.6829 - recall_m: 0.1139\n",
            "Epoch 9/10\n",
            "109242/109242 [==============================] - 50s 455us/step - loss: 1.2549 - acc: 0.5126 - f1_m: 0.1746 - precision_m: 0.7032 - recall_m: 0.1033\n",
            "Epoch 10/10\n",
            "109242/109242 [==============================] - 50s 454us/step - loss: 1.2510 - acc: 0.5128 - f1_m: 0.1650 - precision_m: 0.7093 - recall_m: 0.0957\n"
          ],
          "name": "stdout"
        }
      ]
    },
    {
      "cell_type": "code",
      "metadata": {
        "id": "-f4OsttltkJc",
        "colab_type": "code",
        "outputId": "eb9238f9-7d52-470a-eb2c-54ce2a7aed68",
        "colab": {
          "base_uri": "https://localhost:8080/",
          "height": 102
        }
      },
      "source": [
        "# _, accuracy = model.evaluate(X_test, Y_test, batch_size=batch_size, verbose=0)\n",
        "model.evaluate(X_test, Y_test, verbose=0)\n"
      ],
      "execution_count": 0,
      "outputs": [
        {
          "output_type": "execute_result",
          "data": {
            "text/plain": [
              "[1.3090921267259177,\n",
              " 0.5077747874749028,\n",
              " 0.12288862390425302,\n",
              " 0.6193516644965457,\n",
              " 0.06980221282412748]"
            ]
          },
          "metadata": {
            "tags": []
          },
          "execution_count": 79
        }
      ]
    },
    {
      "cell_type": "code",
      "metadata": {
        "id": "9PG76f8YDNLa",
        "colab_type": "code",
        "outputId": "7b25aecc-267f-40f2-fc83-1df9a129e854",
        "colab": {
          "base_uri": "https://localhost:8080/",
          "height": 295
        }
      },
      "source": [
        "#history = model.fit(x, y, validation_split=0.25, epochs=50, batch_size=16, verbose=1)\n",
        "\n",
        "# Plot training & validation accuracy values\n",
        "plt.plot(history.history['acc'])\n",
        "plt.plot(history.history['f1_m'])\n",
        "plt.title('Model accuracy')\n",
        "plt.ylabel('Accuracy')\n",
        "plt.xlabel('Epoch')\n",
        "plt.legend(['Accuracy', 'F1-score'], loc='upper left')\n",
        "plt.show()"
      ],
      "execution_count": 0,
      "outputs": [
        {
          "output_type": "display_data",
          "data": {
            "image/png": "[encoded data removed]",
            "text/plain": [
              "<Figure size 432x288 with 1 Axes>"
            ]
          },
          "metadata": {
            "tags": []
          }
        }
      ]
    },
    {
      "cell_type": "code",
      "metadata": {
        "id": "6ASAXmRdakbr",
        "colab_type": "code",
        "outputId": "a7f56ff3-9ae5-4948-d558-c64195579049",
        "colab": {
          "base_uri": "https://localhost:8080/",
          "height": 34
        }
      },
      "source": [
        "model.save(\"modelv_1099820.h5\")\n",
        "print(\"Saved model to disk\")"
      ],
      "execution_count": 0,
      "outputs": [
        {
          "output_type": "stream",
          "text": [
            "Saved model to disk\n"
          ],
          "name": "stdout"
        }
      ]
    },
    {
      "cell_type": "code",
      "metadata": {
        "id": "G5mLqF6Clbrv",
        "colab_type": "code",
        "outputId": "0fe2e6fb-7803-4680-8ae0-fde12051d742",
        "colab": {
          "base_uri": "https://localhost:8080/",
          "height": 459
        }
      },
      "source": [
        "from numpy import loadtxt\n",
        "from keras.models import load_model\n",
        "# load model\n",
        "model1 = load_model('model_1099820.h5', custom_objects={'f1_m':f1_m,'precision_m':precision_m,'recall_m':recall_m })\n",
        "# summarize model\n",
        "model1.summary()"
      ],
      "execution_count": 0,
      "outputs": [
        {
          "output_type": "stream",
          "text": [
            "Model: \"sequential_2\"\n",
            "_________________________________________________________________\n",
            "Layer (type)                 Output Shape              Param #   \n",
            "=================================================================\n",
            "embedding_2 (Embedding)      (None, 2000, 150)         3000000   \n",
            "_________________________________________________________________\n",
            "conv1d_3 (Conv1D)            (None, 1998, 250)         112750    \n",
            "_________________________________________________________________\n",
            "conv1d_4 (Conv1D)            (None, 1994, 128)         160128    \n",
            "_________________________________________________________________\n",
            "max_pooling1d_2 (MaxPooling1 (None, 1994, 128)         0         \n",
            "_________________________________________________________________\n",
            "dropout_3 (Dropout)          (None, 1994, 128)         0         \n",
            "_________________________________________________________________\n",
            "flatten_2 (Flatten)          (None, 255232)            0         \n",
            "_________________________________________________________________\n",
            "dense_3 (Dense)              (None, 250)               63808250  \n",
            "_________________________________________________________________\n",
            "dropout_4 (Dropout)          (None, 250)               0         \n",
            "_________________________________________________________________\n",
            "dense_4 (Dense)              (None, 5)                 1255      \n",
            "=================================================================\n",
            "Total params: 67,082,383\n",
            "Trainable params: 67,082,383\n",
            "Non-trainable params: 0\n",
            "_________________________________________________________________\n"
          ],
          "name": "stdout"
        }
      ]
    },
    {
      "cell_type": "code",
      "metadata": {
        "id": "fHutfqUalmTZ",
        "colab_type": "code",
        "colab": {}
      },
      "source": [
        ""
      ],
      "execution_count": 0,
      "outputs": []
    }
  ]
}